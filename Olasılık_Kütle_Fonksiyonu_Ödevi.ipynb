{
  "nbformat": 4,
  "nbformat_minor": 0,
  "metadata": {
    "colab": {
      "name": "Olasılık_Kütle_Fonksiyonu_Ödevi.ipynb",
      "provenance": [],
      "authorship_tag": "ABX9TyNfxdgPseQ5cnjZTBlnsmcH",
      "include_colab_link": true
    },
    "kernelspec": {
      "name": "python3",
      "display_name": "Python 3"
    },
    "language_info": {
      "name": "python"
    }
  },
  "cells": [
    {
      "cell_type": "markdown",
      "metadata": {
        "id": "view-in-github",
        "colab_type": "text"
      },
      "source": [
        "<a href=\"https://colab.research.google.com/github/karakayaonurr/Python-Colab-Homeworks/blob/main/Olas%C4%B1l%C4%B1k_K%C3%BCtle_Fonksiyonu_%C3%96devi.ipynb\" target=\"_parent\"><img src=\"https://colab.research.google.com/assets/colab-badge.svg\" alt=\"Open In Colab\"/></a>"
      ]
    },
    {
      "cell_type": "markdown",
      "metadata": {
        "id": "z0Eu3YBxI_iV"
      },
      "source": [
        "##**Olasılık Kütle Fonksiyonu Ödevi**\n",
        "\n",
        "***Problem:*** \n",
        "\n",
        "2 kez zar atıldığında, 6 gelme olasığını tespit etmek isteniyor... \n",
        "\n",
        "Atış sayısına X dersek; Rx aralığı ve Px olasılık kütle fonksiyonu nedir?\n",
        "\n",
        "***Çözüm:***\n",
        "\n",
        "Örnek Uzay;\n",
        "\n",
        "S = {11, 12, 13, 14, 15, 16,\n",
        "     21, 22, 23, 24, 25, 26,\n",
        "     31, 32, 33, 34, 35, 36,\n",
        "     41, 42, 43, 44, 45, 46,\n",
        "     51, 52, 53, 54, 55, 56,\n",
        "     61, 62, 63, 64, 65, 66}\n",
        "\n",
        "6 gelme sayısı 0, 1, veya 2 olacaktır. Dolayısıyla -> Rx = {0,1,2}.\n",
        "\n",
        "Px(0) => P(X=0) => P((11), (12), (13), (14), (15), (21), (22), (23), (24), (25), (31), (32), (33), (34), (35), (41), (42), (43), (44), (45), (51), (52), (53), (54), (55)) = 25/36,\n",
        "\n",
        "Px(1) => P(X=1) => P((16), (26), (36), (46), (56), (61), (62), (63), (64), (65)) = 10/36,\n",
        "\n",
        "Px(2) => P(X=2) => P((66)) = 1/36,\n",
        "\n"
      ]
    },
    {
      "cell_type": "code",
      "metadata": {
        "colab": {
          "base_uri": "https://localhost:8080/",
          "height": 295
        },
        "id": "wAsAGg0dJRQs",
        "outputId": "bc81ff8a-8125-4724-9607-96ae1af01dd3"
      },
      "source": [
        "import matplotlib.pyplot as plt\n",
        "x1 = [0, 1, 2]\n",
        "y1 = [25/36, 10/36, 1/36]\n",
        "\n",
        "plt.bar(x1, y1, label=\"Px\", color='r')\n",
        "plt.plot()\n",
        "\n",
        "plt.xlabel(\"Olası\")\n",
        "plt.ylabel(\"Olasılık\")\n",
        "plt.title(\"Olasılık Kütle Fonksiyonu Grafiği\")\n",
        "plt.legend()\n",
        "plt.show()"
      ],
      "execution_count": 1,
      "outputs": [
        {
          "output_type": "display_data",
          "data": {
            "image/png": "[encoded data removed]",
            "text/plain": [
              "<Figure size 432x288 with 1 Axes>"
            ]
          },
          "metadata": {
            "tags": [],
            "needs_background": "light"
          }
        }
      ]
    }
  ]
}