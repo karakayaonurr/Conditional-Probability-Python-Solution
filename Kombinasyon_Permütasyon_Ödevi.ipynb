{
  "nbformat": 4,
  "nbformat_minor": 0,
  "metadata": {
    "colab": {
      "name": "Kombinasyon_Permütasyon_Ödevi.ipynb",
      "provenance": [],
      "collapsed_sections": [],
      "authorship_tag": "ABX9TyMJAmewkhGG2VjU27gFHlVD",
      "include_colab_link": true
    },
    "kernelspec": {
      "name": "python3",
      "display_name": "Python 3"
    },
    "language_info": {
      "name": "python"
    }
  },
  "cells": [
    {
      "cell_type": "markdown",
      "metadata": {
        "id": "view-in-github",
        "colab_type": "text"
      },
      "source": [
        "<a href=\"https://colab.research.google.com/github/karakayaonurr/Python-Colab-Homeworks/blob/main/Kombinasyon_Perm%C3%BCtasyon_%C3%96devi.ipynb\" target=\"_parent\"><img src=\"https://colab.research.google.com/assets/colab-badge.svg\" alt=\"Open In Colab\"/></a>"
      ]
    },
    {
      "cell_type": "markdown",
      "metadata": {
        "id": "heBci0C78fmV"
      },
      "source": [
        "##**Kombinasyon Ödevi**\n",
        "\n",
        "***Problem:*** \n",
        "\n",
        "12 kişinin bulunduğu bir grupta herkes birbiri ile tokalaşmaktadır.\n",
        "\n",
        "***Çözüm:***\n",
        "\n",
        "Bir seferde r alınan n nesnenin kombinasyon sayısı:\n",
        "C(n,r) = n! / [R!(N-r)!]"
      ]
    },
    {
      "cell_type": "code",
      "metadata": {
        "id": "z5LDG0HG8mYk"
      },
      "source": [
        "import operator as op\n",
        "from functools import reduce\n",
        "\n",
        "def kombinasyon(x, y):\n",
        "    y = min(y, x-y)\n",
        "    numara = reduce(op.mul, range(x, x-y, -1), 1)\n",
        "    denom = reduce(op.mul, range(1, y+1), 1)\n",
        "    return numara // denom"
      ],
      "execution_count": 1,
      "outputs": []
    },
    {
      "cell_type": "code",
      "metadata": {
        "id": "eog8xYjZ9n-Y"
      },
      "source": [
        "K = kombinasyon(12,2)"
      ],
      "execution_count": 2,
      "outputs": []
    },
    {
      "cell_type": "code",
      "metadata": {
        "id": "rhx7zTHa-Jug",
        "colab": {
          "base_uri": "https://localhost:8080/"
        },
        "outputId": "17fa3549-2740-4ae3-e65b-75ebf012cabb"
      },
      "source": [
        "print(\"K = \" + str(K))"
      ],
      "execution_count": 3,
      "outputs": [
        {
          "output_type": "stream",
          "text": [
            "K = 66\n"
          ],
          "name": "stdout"
        }
      ]
    },
    {
      "cell_type": "markdown",
      "metadata": {
        "id": "v-bi7L6vGar3"
      },
      "source": [
        "##**Permütasyon Ödevi**\n",
        "\n",
        "***Problem:*** \n",
        "\n",
        "A,B ve C kentleri için A'dan B'ye 2, B'den C'ye 4 farklı yol bulunmaktadır. \n",
        "\n",
        "B'ye uğramak koşuluyla A'dan C'ye gitmek isteyen kişi kaç farklı yol kullanabilir ?\n",
        "\n",
        "***Çözüm:***\n",
        "\n",
        "Bir seferde r alınan n nesnenin permütasyon sayısı:\n",
        "P(n,r) = n! / (N-r)!"
      ]
    },
    {
      "cell_type": "code",
      "metadata": {
        "id": "hhkwUPQQGmo7"
      },
      "source": [
        "def faktoriyel(x):\n",
        "    fak = 1\n",
        "    for num in range(2, x + 1):\n",
        "        fak *= num\n",
        "    return fak\n",
        "  \n",
        "def permutasyon (x,y):\n",
        "    return faktoriyel(x) / faktoriyel(x-y)"
      ],
      "execution_count": 4,
      "outputs": []
    },
    {
      "cell_type": "code",
      "metadata": {
        "id": "vjWbsLXPGtKI"
      },
      "source": [
        "P = permutasyon(2,1) * permutasyon(4,1)"
      ],
      "execution_count": 5,
      "outputs": []
    },
    {
      "cell_type": "code",
      "metadata": {
        "colab": {
          "base_uri": "https://localhost:8080/"
        },
        "id": "84yCvLUVG0oP",
        "outputId": "f835898e-e2f0-4961-9b0e-b0cb26505aa4"
      },
      "source": [
        "print(\"Permütasyon: \" + str(P))"
      ],
      "execution_count": 6,
      "outputs": [
        {
          "output_type": "stream",
          "text": [
            "Permütasyon: 8.0\n"
          ],
          "name": "stdout"
        }
      ]
    }
  ]
}