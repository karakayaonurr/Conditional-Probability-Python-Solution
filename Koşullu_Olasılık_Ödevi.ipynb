{
  "nbformat": 4,
  "nbformat_minor": 0,
  "metadata": {
    "colab": {
      "name": "Koşullu Olasılık Ödevi.ipynb",
      "provenance": [],
      "collapsed_sections": [],
      "authorship_tag": "ABX9TyMYJh48tMbY05MEi7tbjRyt",
      "include_colab_link": true
    },
    "kernelspec": {
      "name": "python3",
      "display_name": "Python 3"
    },
    "language_info": {
      "name": "python"
    }
  },
  "cells": [
    {
      "cell_type": "markdown",
      "metadata": {
        "id": "view-in-github",
        "colab_type": "text"
      },
      "source": [
        "<a href=\"https://colab.research.google.com/github/karakayaonurr/Python-Colab-Homeworks/blob/main/Ko%C5%9Fullu_Olas%C4%B1l%C4%B1k_%C3%96devi.ipynb\" target=\"_parent\"><img src=\"https://colab.research.google.com/assets/colab-badge.svg\" alt=\"Open In Colab\"/></a>"
      ]
    },
    {
      "cell_type": "markdown",
      "metadata": {
        "id": "9KCvIpIdFOv4"
      },
      "source": [
        "##**Koşullu Olasılık Ödevi**\n",
        "\n",
        "***Problem:*** \n",
        "\n",
        "Bir yarışmada yarışmacılara 2 jüri üyesi 4'er soru yöneltiyor. Yarışmacı bir üst ture geçebilmek için, her bir juri üyesinin en az 3 sorusunu doğru cevaplandırmak zorundadır.\n",
        "\n",
        "Sorulan tüm sorulara cevap veren bir yarışmacı, toplam 6 soruyu doğru cevaplandırdığına göre bir üst tura çıkma olasılığı kaçtır?\n",
        "\n",
        "***Çözüm:***\n",
        "\n",
        "Koşullu olasılık formülü  **P(A|B) = P(A∩B) / P(B)** şeklindedir. \n",
        "\n",
        "* **P(A|B)** = B'nin meydana gelmesi durumunda A'nın gerçekleşme olasılığı \n",
        "\n",
        "=> P(A|B) = Toplamda 6 soruyu doğru cevaplandırıp, üst tura çıkma olasılığı\n",
        "\n",
        "* **P(A∩B)** = Hem A hem de B'nin oluşma olasılığı\n",
        "\n",
        "=> P(A∩B) = Her 4 soruda 3'er tane doğru soru cevaplama olasılığı\n",
        "\n",
        "* **P(B)** = B'nin oluşma olasılığı\n",
        "\n",
        "=> P(B) = 6 soruyu doğru cevaplama olasılığı\n"
      ]
    },
    {
      "cell_type": "code",
      "metadata": {
        "id": "enkog9e9GuJB"
      },
      "source": [
        "import operator as op\n",
        "from functools import reduce\n",
        "\n",
        "def kombinasyon(n, r):\n",
        "    r = min(r, n-r)\n",
        "    numer = reduce(op.mul, range(n, n-r, -1), 1)\n",
        "    denom = reduce(op.mul, range(1, r+1), 1)\n",
        "    return numer // denom"
      ],
      "execution_count": 1,
      "outputs": []
    },
    {
      "cell_type": "code",
      "metadata": {
        "id": "HO0HH824WCSH"
      },
      "source": [
        "P_A_Kesisim_B = kombinasyon(4,3) * kombinasyon(4,3) / pow(2,8);\n",
        "P_B = 1 - (kombinasyon(8,6) / pow(2,8));"
      ],
      "execution_count": 2,
      "outputs": []
    },
    {
      "cell_type": "code",
      "metadata": {
        "colab": {
          "base_uri": "https://localhost:8080/"
        },
        "id": "JEa2tt82WoT0",
        "outputId": "5c5087dc-f760-4b87-e84e-2c03248204e4"
      },
      "source": [
        "print(\"P_B: \" + str(P_B));\n",
        "print(\"P_A_Kesisim_B: \" + str(P_A_Kesisim_B));"
      ],
      "execution_count": 3,
      "outputs": [
        {
          "output_type": "stream",
          "text": [
            "P_B: 0.890625\n",
            "P_A_Kesisim_B: 0.0625\n"
          ],
          "name": "stdout"
        }
      ]
    },
    {
      "cell_type": "code",
      "metadata": {
        "id": "30D-EPVKWvDu"
      },
      "source": [
        "def kosulluOlasilik(kesisim, kosul):\n",
        "  return kesisim / kosul"
      ],
      "execution_count": 4,
      "outputs": []
    },
    {
      "cell_type": "code",
      "metadata": {
        "colab": {
          "base_uri": "https://localhost:8080/"
        },
        "id": "i5cLYegQXBfG",
        "outputId": "3e78f77e-eeee-4222-9f30-2132db2fc672"
      },
      "source": [
        "kosulluOlasilik(P_A_Kesisim_B, P_B)"
      ],
      "execution_count": 5,
      "outputs": [
        {
          "output_type": "execute_result",
          "data": {
            "text/plain": [
              "0.07017543859649122"
            ]
          },
          "metadata": {
            "tags": []
          },
          "execution_count": 5
        }
      ]
    }
  ]
}