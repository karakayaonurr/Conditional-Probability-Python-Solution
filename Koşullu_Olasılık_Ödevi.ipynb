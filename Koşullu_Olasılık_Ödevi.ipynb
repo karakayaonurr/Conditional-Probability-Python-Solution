{
  "nbformat": 4,
  "nbformat_minor": 0,
  "metadata": {
    "colab": {
      "name": "Koşullu Olasılık Ödevi.ipynb",
      "provenance": [],
      "authorship_tag": "ABX9TyNAySIoeYf07vRBEGDSRX5W",
      "include_colab_link": true
    },
    "kernelspec": {
      "name": "python3",
      "display_name": "Python 3"
    },
    "language_info": {
      "name": "python"
    }
  },
  "cells": [
    {
      "cell_type": "markdown",
      "metadata": {
        "id": "view-in-github",
        "colab_type": "text"
      },
      "source": [
        "<a href=\"https://colab.research.google.com/github/karakayaonurr/Conditional-Probability-Python-Solution/blob/main/Ko%C5%9Fullu_Olas%C4%B1l%C4%B1k_%C3%96devi.ipynb\" target=\"_parent\"><img src=\"https://colab.research.google.com/assets/colab-badge.svg\" alt=\"Open In Colab\"/></a>"
      ]
    },
    {
      "cell_type": "markdown",
      "metadata": {
        "id": "9KCvIpIdFOv4"
      },
      "source": [
        "##**Koşullu Olasılık Ödevi**\n",
        "\n",
        "***Problem:*** \n",
        "\n",
        "Bir sınıftaki öğrencilerin %60'ı, hem Matematik hem de Fizik sınavlarından geçmeyi başarmıştır. Fizik sınavından geçenlerin oranının %80 olduğu durumda; rastgele seçilen birinin Fizik sınavından geçtiği bildiğine göre Matematik sınavından da geçmiş olma olasılığı yüzde kaçtır?\n",
        "\n",
        "***Çözüm:***\n",
        "\n",
        "Koşullu olasılık formülü  **P(A|B) = P(A∩B) / P(B)** şeklindedir. \n",
        "\n",
        "* **P(A|B)** = B'nin meydana gelmesi durumunda A'nın gerçekleşme olasılığı \n",
        "\n",
        "=> P(A|B) = Fizik sınavından geçen birinin, Matematik sınavından da geçme olasılığı\n",
        "\n",
        "* **P(A∩B)** = Hem A hem de B'nin oluşma olasılığı\n",
        "\n",
        "=> P(A∩B) = Hem Fizik sınavından Hem Matemtik sınavından geçme olasılığı\n",
        "\n",
        "* **P(B)** = B'nin oluşma olasılığı\n",
        "\n",
        "=> P(B) = Fizik sınavından geçme olasılığı\n"
      ]
    },
    {
      "cell_type": "code",
      "metadata": {
        "id": "enkog9e9GuJB"
      },
      "source": [
        ""
      ],
      "execution_count": null,
      "outputs": []
    }
  ]
}